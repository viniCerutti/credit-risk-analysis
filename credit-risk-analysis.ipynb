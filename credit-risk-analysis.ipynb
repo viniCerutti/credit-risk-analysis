{
 "cells": [
  {
   "cell_type": "markdown",
   "metadata": {},
   "source": [
    "### Sumário:\n",
    "* 1. [Definição do Problema](#definicaoproblema)\n",
    "* 2. [Análise Exploratória dos Dados](#eda)\n",
    "    * 2.1 [Conclusão e Recomendações](#conclusao)  \n",
    "* 3. [Criação do Modelo](#criacaomodelo)\n",
    "    * 3.1 [Seleção de Atributos](#selecaoatributos)\n",
    "    * 3.2 [Transformação de váriaveis Categoricas para Númericas](#tranformcaoattb)\n",
    "    * 3.3 [Treino e Teste de Modelos](#treinoeteste)\n",
    "    * 3.4 [Escolha do Modelo e Considerações Finais](#escolhamodelofinal)\n",
    "* 4. [Respostas Outras Perguntas](#respostasperguntas)"
   ]
  },
  {
   "cell_type": "code",
   "execution_count": 3,
   "metadata": {},
   "outputs": [],
   "source": [
    "import pandas as pd\n",
    "import utils\n",
    "import json\n",
    "import seaborn as sns\n",
    "import matplotlib.pyplot as plt\n",
    "import pickle\n",
    "from scipy.stats import chi2_contingency\n",
    "from scipy.stats import ttest_ind\n",
    "from sklearn.model_selection import train_test_split\n",
    "from sklearn.linear_model import LogisticRegression\n",
    "from sklearn.ensemble import RandomForestClassifier\n",
    "from sklearn.metrics import accuracy_score, classification_report\n",
    "from imblearn.under_sampling import NearMiss\n",
    "from imblearn.over_sampling import SMOTE"
   ]
  },
  {
   "cell_type": "markdown",
   "metadata": {},
   "source": [
    "<a id='definicaoproblema'></a>\n",
    "### Definição do Problema:\n",
    "\n",
    "A empresa Hobbit quer expandir seus negócios e para isso precisa automatizar o processo decisório de crédito, que até então vinha sendo feito de forma manual pelo seu time de analistas de crédito. Para isso, solicitou a você, cientista de dados, a análise da base dos créditos concedidos aos seus clientes no ano de 2020. O objetivo é, que a cada nova proposta de crédito, na sua plataforma digital, a aprovação (para bons clientes) ou recusa (para os maus clientes) seja decidida em poucos segundos."
   ]
  },
  {
   "cell_type": "markdown",
   "metadata": {},
   "source": [
    "<a id='eda'></a>\n",
    "### Análise Exploratória dos Dados\n",
    "\n",
    "Conjuntos de dados e dicionário dos Atributos:\n",
    "\n",
    "https://archive.ics.uci.edu/ml/datasets/Statlog+%28German+Credit+Data%29\n",
    "\n",
    "1 = BOM 2 = MAU"
   ]
  },
  {
   "cell_type": "code",
   "execution_count": 4,
   "metadata": {},
   "outputs": [],
   "source": [
    "dados = pd.read_csv('https://archive.ics.uci.edu/ml/machine-learning-databases/statlog/german/german.data',sep=\" \",header=None)"
   ]
  },
  {
   "cell_type": "markdown",
   "metadata": {},
   "source": [
    "Percebe-se que não há nenhum dado faltante conforme a documentação e que os estão com identifcadores de categorias, para diminuir o tamanho do arquivo. Para isso, será necessário mapear estes identifcadores para respectivas categorias e atributos e também adicionar um header no dataframe para facilitar a compreensão dos dados."
   ]
  },
  {
   "cell_type": "code",
   "execution_count": 5,
   "metadata": {},
   "outputs": [
    {
     "name": "stdout",
     "output_type": "stream",
     "text": [
      "<class 'pandas.core.frame.DataFrame'>\n",
      "RangeIndex: 1000 entries, 0 to 999\n",
      "Data columns (total 21 columns):\n",
      " #   Column  Non-Null Count  Dtype \n",
      "---  ------  --------------  ----- \n",
      " 0   0       1000 non-null   object\n",
      " 1   1       1000 non-null   int64 \n",
      " 2   2       1000 non-null   object\n",
      " 3   3       1000 non-null   object\n",
      " 4   4       1000 non-null   int64 \n",
      " 5   5       1000 non-null   object\n",
      " 6   6       1000 non-null   object\n",
      " 7   7       1000 non-null   int64 \n",
      " 8   8       1000 non-null   object\n",
      " 9   9       1000 non-null   object\n",
      " 10  10      1000 non-null   int64 \n",
      " 11  11      1000 non-null   object\n",
      " 12  12      1000 non-null   int64 \n",
      " 13  13      1000 non-null   object\n",
      " 14  14      1000 non-null   object\n",
      " 15  15      1000 non-null   int64 \n",
      " 16  16      1000 non-null   object\n",
      " 17  17      1000 non-null   int64 \n",
      " 18  18      1000 non-null   object\n",
      " 19  19      1000 non-null   object\n",
      " 20  20      1000 non-null   int64 \n",
      "dtypes: int64(8), object(13)\n",
      "memory usage: 164.2+ KB\n"
     ]
    }
   ],
   "source": [
    "dados.info()"
   ]
  },
  {
   "cell_type": "code",
   "execution_count": 6,
   "metadata": {},
   "outputs": [
    {
     "data": {
      "text/plain": [
       "0     0.0\n",
       "1     0.0\n",
       "2     0.0\n",
       "3     0.0\n",
       "4     0.0\n",
       "5     0.0\n",
       "6     0.0\n",
       "7     0.0\n",
       "8     0.0\n",
       "9     0.0\n",
       "10    0.0\n",
       "11    0.0\n",
       "12    0.0\n",
       "13    0.0\n",
       "14    0.0\n",
       "15    0.0\n",
       "16    0.0\n",
       "17    0.0\n",
       "18    0.0\n",
       "19    0.0\n",
       "20    0.0\n",
       "dtype: float64"
      ]
     },
     "execution_count": 6,
     "metadata": {},
     "output_type": "execute_result"
    }
   ],
   "source": [
    "dados.isna().mean()"
   ]
  },
  {
   "cell_type": "code",
   "execution_count": 7,
   "metadata": {},
   "outputs": [
    {
     "data": {
      "text/html": [
       "<div>\n",
       "<style scoped>\n",
       "    .dataframe tbody tr th:only-of-type {\n",
       "        vertical-align: middle;\n",
       "    }\n",
       "\n",
       "    .dataframe tbody tr th {\n",
       "        vertical-align: top;\n",
       "    }\n",
       "\n",
       "    .dataframe thead th {\n",
       "        text-align: right;\n",
       "    }\n",
       "</style>\n",
       "<table border=\"1\" class=\"dataframe\">\n",
       "  <thead>\n",
       "    <tr style=\"text-align: right;\">\n",
       "      <th></th>\n",
       "      <th>0</th>\n",
       "      <th>1</th>\n",
       "      <th>2</th>\n",
       "      <th>3</th>\n",
       "      <th>4</th>\n",
       "      <th>5</th>\n",
       "      <th>6</th>\n",
       "      <th>7</th>\n",
       "      <th>8</th>\n",
       "      <th>9</th>\n",
       "      <th>...</th>\n",
       "      <th>11</th>\n",
       "      <th>12</th>\n",
       "      <th>13</th>\n",
       "      <th>14</th>\n",
       "      <th>15</th>\n",
       "      <th>16</th>\n",
       "      <th>17</th>\n",
       "      <th>18</th>\n",
       "      <th>19</th>\n",
       "      <th>20</th>\n",
       "    </tr>\n",
       "  </thead>\n",
       "  <tbody>\n",
       "    <tr>\n",
       "      <th>0</th>\n",
       "      <td>A11</td>\n",
       "      <td>6</td>\n",
       "      <td>A34</td>\n",
       "      <td>A43</td>\n",
       "      <td>1169</td>\n",
       "      <td>A65</td>\n",
       "      <td>A75</td>\n",
       "      <td>4</td>\n",
       "      <td>A93</td>\n",
       "      <td>A101</td>\n",
       "      <td>...</td>\n",
       "      <td>A121</td>\n",
       "      <td>67</td>\n",
       "      <td>A143</td>\n",
       "      <td>A152</td>\n",
       "      <td>2</td>\n",
       "      <td>A173</td>\n",
       "      <td>1</td>\n",
       "      <td>A192</td>\n",
       "      <td>A201</td>\n",
       "      <td>1</td>\n",
       "    </tr>\n",
       "    <tr>\n",
       "      <th>1</th>\n",
       "      <td>A12</td>\n",
       "      <td>48</td>\n",
       "      <td>A32</td>\n",
       "      <td>A43</td>\n",
       "      <td>5951</td>\n",
       "      <td>A61</td>\n",
       "      <td>A73</td>\n",
       "      <td>2</td>\n",
       "      <td>A92</td>\n",
       "      <td>A101</td>\n",
       "      <td>...</td>\n",
       "      <td>A121</td>\n",
       "      <td>22</td>\n",
       "      <td>A143</td>\n",
       "      <td>A152</td>\n",
       "      <td>1</td>\n",
       "      <td>A173</td>\n",
       "      <td>1</td>\n",
       "      <td>A191</td>\n",
       "      <td>A201</td>\n",
       "      <td>2</td>\n",
       "    </tr>\n",
       "    <tr>\n",
       "      <th>2</th>\n",
       "      <td>A14</td>\n",
       "      <td>12</td>\n",
       "      <td>A34</td>\n",
       "      <td>A46</td>\n",
       "      <td>2096</td>\n",
       "      <td>A61</td>\n",
       "      <td>A74</td>\n",
       "      <td>2</td>\n",
       "      <td>A93</td>\n",
       "      <td>A101</td>\n",
       "      <td>...</td>\n",
       "      <td>A121</td>\n",
       "      <td>49</td>\n",
       "      <td>A143</td>\n",
       "      <td>A152</td>\n",
       "      <td>1</td>\n",
       "      <td>A172</td>\n",
       "      <td>2</td>\n",
       "      <td>A191</td>\n",
       "      <td>A201</td>\n",
       "      <td>1</td>\n",
       "    </tr>\n",
       "    <tr>\n",
       "      <th>3</th>\n",
       "      <td>A11</td>\n",
       "      <td>42</td>\n",
       "      <td>A32</td>\n",
       "      <td>A42</td>\n",
       "      <td>7882</td>\n",
       "      <td>A61</td>\n",
       "      <td>A74</td>\n",
       "      <td>2</td>\n",
       "      <td>A93</td>\n",
       "      <td>A103</td>\n",
       "      <td>...</td>\n",
       "      <td>A122</td>\n",
       "      <td>45</td>\n",
       "      <td>A143</td>\n",
       "      <td>A153</td>\n",
       "      <td>1</td>\n",
       "      <td>A173</td>\n",
       "      <td>2</td>\n",
       "      <td>A191</td>\n",
       "      <td>A201</td>\n",
       "      <td>1</td>\n",
       "    </tr>\n",
       "    <tr>\n",
       "      <th>4</th>\n",
       "      <td>A11</td>\n",
       "      <td>24</td>\n",
       "      <td>A33</td>\n",
       "      <td>A40</td>\n",
       "      <td>4870</td>\n",
       "      <td>A61</td>\n",
       "      <td>A73</td>\n",
       "      <td>3</td>\n",
       "      <td>A93</td>\n",
       "      <td>A101</td>\n",
       "      <td>...</td>\n",
       "      <td>A124</td>\n",
       "      <td>53</td>\n",
       "      <td>A143</td>\n",
       "      <td>A153</td>\n",
       "      <td>2</td>\n",
       "      <td>A173</td>\n",
       "      <td>2</td>\n",
       "      <td>A191</td>\n",
       "      <td>A201</td>\n",
       "      <td>2</td>\n",
       "    </tr>\n",
       "    <tr>\n",
       "      <th>5</th>\n",
       "      <td>A14</td>\n",
       "      <td>36</td>\n",
       "      <td>A32</td>\n",
       "      <td>A46</td>\n",
       "      <td>9055</td>\n",
       "      <td>A65</td>\n",
       "      <td>A73</td>\n",
       "      <td>2</td>\n",
       "      <td>A93</td>\n",
       "      <td>A101</td>\n",
       "      <td>...</td>\n",
       "      <td>A124</td>\n",
       "      <td>35</td>\n",
       "      <td>A143</td>\n",
       "      <td>A153</td>\n",
       "      <td>1</td>\n",
       "      <td>A172</td>\n",
       "      <td>2</td>\n",
       "      <td>A192</td>\n",
       "      <td>A201</td>\n",
       "      <td>1</td>\n",
       "    </tr>\n",
       "  </tbody>\n",
       "</table>\n",
       "<p>6 rows × 21 columns</p>\n",
       "</div>"
      ],
      "text/plain": [
       "    0   1    2    3     4    5    6   7    8     9   ...    11  12    13  \\\n",
       "0  A11   6  A34  A43  1169  A65  A75   4  A93  A101  ...  A121  67  A143   \n",
       "1  A12  48  A32  A43  5951  A61  A73   2  A92  A101  ...  A121  22  A143   \n",
       "2  A14  12  A34  A46  2096  A61  A74   2  A93  A101  ...  A121  49  A143   \n",
       "3  A11  42  A32  A42  7882  A61  A74   2  A93  A103  ...  A122  45  A143   \n",
       "4  A11  24  A33  A40  4870  A61  A73   3  A93  A101  ...  A124  53  A143   \n",
       "5  A14  36  A32  A46  9055  A65  A73   2  A93  A101  ...  A124  35  A143   \n",
       "\n",
       "     14 15    16 17    18    19 20  \n",
       "0  A152  2  A173  1  A192  A201  1  \n",
       "1  A152  1  A173  1  A191  A201  2  \n",
       "2  A152  1  A172  2  A191  A201  1  \n",
       "3  A153  1  A173  2  A191  A201  1  \n",
       "4  A153  2  A173  2  A191  A201  2  \n",
       "5  A153  1  A172  2  A192  A201  1  \n",
       "\n",
       "[6 rows x 21 columns]"
      ]
     },
     "execution_count": 7,
     "metadata": {},
     "output_type": "execute_result"
    }
   ],
   "source": [
    "dados.head(6)"
   ]
  },
  {
   "cell_type": "markdown",
   "metadata": {},
   "source": [
    "Foi criado um arquivo JSON com as colunas e respectivos categorias para cada identificador"
   ]
  },
  {
   "cell_type": "code",
   "execution_count": 8,
   "metadata": {},
   "outputs": [],
   "source": [
    "valores_categoricos = json.load(open('./Dados/valores_categoricos.json'))"
   ]
  },
  {
   "cell_type": "code",
   "execution_count": 9,
   "metadata": {},
   "outputs": [],
   "source": [
    "header = ['status_of_existing_checking_account','duration_in_month','credit_history','purpose','credit_amount',\n",
    "          'savings_account_bonds','present_employment_since','installment_rate','personal_status_and_sex',\n",
    "          'others_debtors_guarantors','present_residence_since','property','age','other_installment_plans',\n",
    "          'housing','number_of_existing_credits_at_this_bank','job',\n",
    "          'number_of_people_being_liable_to_provid_maintenance_for','telephone','foreign_worker','credit_risk']\n",
    "dados.columns = header"
   ]
  },
  {
   "cell_type": "code",
   "execution_count": 10,
   "metadata": {},
   "outputs": [],
   "source": [
    "for h in header:\n",
    "    if h in valores_categoricos:\n",
    "        dados[h] = dados[h].map(valores_categoricos[h])"
   ]
  },
  {
   "cell_type": "code",
   "execution_count": 11,
   "metadata": {},
   "outputs": [
    {
     "data": {
      "text/html": [
       "<div>\n",
       "<style scoped>\n",
       "    .dataframe tbody tr th:only-of-type {\n",
       "        vertical-align: middle;\n",
       "    }\n",
       "\n",
       "    .dataframe tbody tr th {\n",
       "        vertical-align: top;\n",
       "    }\n",
       "\n",
       "    .dataframe thead th {\n",
       "        text-align: right;\n",
       "    }\n",
       "</style>\n",
       "<table border=\"1\" class=\"dataframe\">\n",
       "  <thead>\n",
       "    <tr style=\"text-align: right;\">\n",
       "      <th></th>\n",
       "      <th>status_of_existing_checking_account</th>\n",
       "      <th>duration_in_month</th>\n",
       "      <th>credit_history</th>\n",
       "      <th>purpose</th>\n",
       "      <th>credit_amount</th>\n",
       "      <th>savings_account_bonds</th>\n",
       "      <th>present_employment_since</th>\n",
       "      <th>installment_rate</th>\n",
       "      <th>personal_status_and_sex</th>\n",
       "      <th>others_debtors_guarantors</th>\n",
       "      <th>...</th>\n",
       "      <th>property</th>\n",
       "      <th>age</th>\n",
       "      <th>other_installment_plans</th>\n",
       "      <th>housing</th>\n",
       "      <th>number_of_existing_credits_at_this_bank</th>\n",
       "      <th>job</th>\n",
       "      <th>number_of_people_being_liable_to_provid_maintenance_for</th>\n",
       "      <th>telephone</th>\n",
       "      <th>foreign_worker</th>\n",
       "      <th>credit_risk</th>\n",
       "    </tr>\n",
       "  </thead>\n",
       "  <tbody>\n",
       "    <tr>\n",
       "      <th>0</th>\n",
       "      <td>&lt; 0 DM</td>\n",
       "      <td>6</td>\n",
       "      <td>critical account / other credits existing (not...</td>\n",
       "      <td>radio/television</td>\n",
       "      <td>1169</td>\n",
       "      <td>unknown / no savings account</td>\n",
       "      <td>&gt;= 7 years</td>\n",
       "      <td>4</td>\n",
       "      <td>male : single</td>\n",
       "      <td>None</td>\n",
       "      <td>...</td>\n",
       "      <td>real estate</td>\n",
       "      <td>67</td>\n",
       "      <td>None</td>\n",
       "      <td>own</td>\n",
       "      <td>2</td>\n",
       "      <td>skilled employee /official</td>\n",
       "      <td>1</td>\n",
       "      <td>yes, registered under the customers name</td>\n",
       "      <td>yes</td>\n",
       "      <td>1</td>\n",
       "    </tr>\n",
       "    <tr>\n",
       "      <th>1</th>\n",
       "      <td>0 &lt;= and &lt; 200 DM</td>\n",
       "      <td>48</td>\n",
       "      <td>existing credits paind back duly till now</td>\n",
       "      <td>radio/television</td>\n",
       "      <td>5951</td>\n",
       "      <td>&lt; 100DM</td>\n",
       "      <td>1 &lt;= and &lt; 4 years</td>\n",
       "      <td>2</td>\n",
       "      <td>female : divorced/separated/married</td>\n",
       "      <td>None</td>\n",
       "      <td>...</td>\n",
       "      <td>real estate</td>\n",
       "      <td>22</td>\n",
       "      <td>None</td>\n",
       "      <td>own</td>\n",
       "      <td>1</td>\n",
       "      <td>skilled employee /official</td>\n",
       "      <td>1</td>\n",
       "      <td>None</td>\n",
       "      <td>yes</td>\n",
       "      <td>2</td>\n",
       "    </tr>\n",
       "    <tr>\n",
       "      <th>2</th>\n",
       "      <td>no checking account</td>\n",
       "      <td>12</td>\n",
       "      <td>critical account / other credits existing (not...</td>\n",
       "      <td>education</td>\n",
       "      <td>2096</td>\n",
       "      <td>&lt; 100DM</td>\n",
       "      <td>4 &lt;= and &lt; 7 years</td>\n",
       "      <td>2</td>\n",
       "      <td>male : single</td>\n",
       "      <td>None</td>\n",
       "      <td>...</td>\n",
       "      <td>real estate</td>\n",
       "      <td>49</td>\n",
       "      <td>None</td>\n",
       "      <td>own</td>\n",
       "      <td>1</td>\n",
       "      <td>unskilled-resident</td>\n",
       "      <td>2</td>\n",
       "      <td>None</td>\n",
       "      <td>yes</td>\n",
       "      <td>1</td>\n",
       "    </tr>\n",
       "    <tr>\n",
       "      <th>3</th>\n",
       "      <td>&lt; 0 DM</td>\n",
       "      <td>42</td>\n",
       "      <td>existing credits paind back duly till now</td>\n",
       "      <td>furniture/equipment</td>\n",
       "      <td>7882</td>\n",
       "      <td>&lt; 100DM</td>\n",
       "      <td>4 &lt;= and &lt; 7 years</td>\n",
       "      <td>2</td>\n",
       "      <td>male : single</td>\n",
       "      <td>guarantor</td>\n",
       "      <td>...</td>\n",
       "      <td>if not real estate : building society savings ...</td>\n",
       "      <td>45</td>\n",
       "      <td>None</td>\n",
       "      <td>for free</td>\n",
       "      <td>1</td>\n",
       "      <td>skilled employee /official</td>\n",
       "      <td>2</td>\n",
       "      <td>None</td>\n",
       "      <td>yes</td>\n",
       "      <td>1</td>\n",
       "    </tr>\n",
       "    <tr>\n",
       "      <th>4</th>\n",
       "      <td>&lt; 0 DM</td>\n",
       "      <td>24</td>\n",
       "      <td>delay in paying off in the past</td>\n",
       "      <td>car (new)</td>\n",
       "      <td>4870</td>\n",
       "      <td>&lt; 100DM</td>\n",
       "      <td>1 &lt;= and &lt; 4 years</td>\n",
       "      <td>3</td>\n",
       "      <td>male : single</td>\n",
       "      <td>None</td>\n",
       "      <td>...</td>\n",
       "      <td>unknown/no property</td>\n",
       "      <td>53</td>\n",
       "      <td>None</td>\n",
       "      <td>for free</td>\n",
       "      <td>2</td>\n",
       "      <td>skilled employee /official</td>\n",
       "      <td>2</td>\n",
       "      <td>None</td>\n",
       "      <td>yes</td>\n",
       "      <td>2</td>\n",
       "    </tr>\n",
       "  </tbody>\n",
       "</table>\n",
       "<p>5 rows × 21 columns</p>\n",
       "</div>"
      ],
      "text/plain": [
       "  status_of_existing_checking_account  duration_in_month  \\\n",
       "0                              < 0 DM                  6   \n",
       "1                   0 <= and < 200 DM                 48   \n",
       "2                 no checking account                 12   \n",
       "3                              < 0 DM                 42   \n",
       "4                              < 0 DM                 24   \n",
       "\n",
       "                                      credit_history              purpose  \\\n",
       "0  critical account / other credits existing (not...     radio/television   \n",
       "1          existing credits paind back duly till now     radio/television   \n",
       "2  critical account / other credits existing (not...            education   \n",
       "3          existing credits paind back duly till now  furniture/equipment   \n",
       "4                    delay in paying off in the past            car (new)   \n",
       "\n",
       "   credit_amount         savings_account_bonds present_employment_since  \\\n",
       "0           1169  unknown / no savings account               >= 7 years   \n",
       "1           5951                       < 100DM       1 <= and < 4 years   \n",
       "2           2096                       < 100DM       4 <= and < 7 years   \n",
       "3           7882                       < 100DM       4 <= and < 7 years   \n",
       "4           4870                       < 100DM       1 <= and < 4 years   \n",
       "\n",
       "   installment_rate              personal_status_and_sex  \\\n",
       "0                 4                        male : single   \n",
       "1                 2  female : divorced/separated/married   \n",
       "2                 2                        male : single   \n",
       "3                 2                        male : single   \n",
       "4                 3                        male : single   \n",
       "\n",
       "  others_debtors_guarantors  ...  \\\n",
       "0                      None  ...   \n",
       "1                      None  ...   \n",
       "2                      None  ...   \n",
       "3                 guarantor  ...   \n",
       "4                      None  ...   \n",
       "\n",
       "                                            property age  \\\n",
       "0                                        real estate  67   \n",
       "1                                        real estate  22   \n",
       "2                                        real estate  49   \n",
       "3  if not real estate : building society savings ...  45   \n",
       "4                                unknown/no property  53   \n",
       "\n",
       "   other_installment_plans   housing number_of_existing_credits_at_this_bank  \\\n",
       "0                     None       own                                       2   \n",
       "1                     None       own                                       1   \n",
       "2                     None       own                                       1   \n",
       "3                     None  for free                                       1   \n",
       "4                     None  for free                                       2   \n",
       "\n",
       "                          job  \\\n",
       "0  skilled employee /official   \n",
       "1  skilled employee /official   \n",
       "2          unskilled-resident   \n",
       "3  skilled employee /official   \n",
       "4  skilled employee /official   \n",
       "\n",
       "  number_of_people_being_liable_to_provid_maintenance_for  \\\n",
       "0                                                  1        \n",
       "1                                                  1        \n",
       "2                                                  2        \n",
       "3                                                  2        \n",
       "4                                                  2        \n",
       "\n",
       "                                  telephone foreign_worker credit_risk  \n",
       "0  yes, registered under the customers name            yes           1  \n",
       "1                                      None            yes           2  \n",
       "2                                      None            yes           1  \n",
       "3                                      None            yes           1  \n",
       "4                                      None            yes           2  \n",
       "\n",
       "[5 rows x 21 columns]"
      ]
     },
     "execution_count": 11,
     "metadata": {},
     "output_type": "execute_result"
    }
   ],
   "source": [
    "dados.head()"
   ]
  },
  {
   "cell_type": "markdown",
   "metadata": {},
   "source": [
    "Nota-se que há um desbalanceamento de perfis onde que 70% dos clientes são perfis bons e outros 30% são maus"
   ]
  },
  {
   "cell_type": "code",
   "execution_count": 12,
   "metadata": {},
   "outputs": [
    {
     "data": {
      "text/plain": [
       "1    0.7\n",
       "2    0.3\n",
       "Name: credit_risk, dtype: float64"
      ]
     },
     "execution_count": 12,
     "metadata": {},
     "output_type": "execute_result"
    }
   ],
   "source": [
    "dados['credit_risk'].value_counts(normalize=True)"
   ]
  },
  {
   "cell_type": "markdown",
   "metadata": {},
   "source": [
    "Nota-se que para perfis que são classificados como maus possuem 80% de ser menor ou igual 0 e menor 200 DM o valor da conta conta corrente, enquanto para perfis bons 49% não possuem uma conta corrente. Outro fato, interessante de ser analisado é que 77% de contas que possuem mais de 200 DM ou com atribuições de salários por pelo menos 1 ano não são de perfis considerados maus e que 88% de clientes que não possuem conta corrente são considerados bons perfis."
   ]
  },
  {
   "cell_type": "code",
   "execution_count": 13,
   "metadata": {},
   "outputs": [
    {
     "name": "stdout",
     "output_type": "stream",
     "text": [
      "no checking account                                 0.394\n",
      "< 0 DM                                              0.274\n",
      "0 <= and < 200 DM                                   0.269\n",
      "> 200DM / salary assignments for at least 1 year    0.063\n",
      "Name: status_of_existing_checking_account, dtype: float64\n",
      "\n",
      "\n",
      "Porcentagem por Linha\n",
      "\n",
      "\n",
      "credit_risk                                              1         2\n",
      "status_of_existing_checking_account                                 \n",
      "0 <= and < 200 DM                                 0.609665  0.390335\n",
      "< 0 DM                                            0.507299  0.492701\n",
      "> 200DM / salary assignments for at least 1 year  0.777778  0.222222\n",
      "no checking account                               0.883249  0.116751\n",
      "\n",
      "\n",
      "Porcentagem por Coluna\n",
      "\n",
      "\n",
      "credit_risk                                              1         2\n",
      "status_of_existing_checking_account                                 \n",
      "0 <= and < 200 DM                                 0.234286  0.350000\n",
      "< 0 DM                                            0.198571  0.450000\n",
      "> 200DM / salary assignments for at least 1 year  0.070000  0.046667\n",
      "no checking account                               0.497143  0.153333\n"
     ]
    }
   ],
   "source": [
    "utils.tabela_frequencia(dados,'status_of_existing_checking_account','credit_risk')"
   ]
  },
  {
   "cell_type": "markdown",
   "metadata": {},
   "source": [
    "50% dos créditos considerados bons apresentam uma duração média de 19 meses, enquanto para créditos considerados maus a sua mediana é de 24 meses e tendo uma tendencia de ter uma duração maior e no máximo de 72 meses"
   ]
  },
  {
   "cell_type": "code",
   "execution_count": 14,
   "metadata": {},
   "outputs": [
    {
     "name": "stdout",
     "output_type": "stream",
     "text": [
      "             count       mean        std  min   25%   50%   75%   max\n",
      "credit_risk                                                          \n",
      "1            700.0  19.207143  11.079564  4.0  12.0  18.0  24.0  60.0\n",
      "2            300.0  24.860000  13.282639  6.0  12.0  24.0  36.0  72.0\n"
     ]
    },
    {
     "data": {
      "image/png": "[encoded data removed]",
      "text/plain": [
       "<Figure size 720x360 with 2 Axes>"
      ]
     },
     "metadata": {},
     "output_type": "display_data"
    }
   ],
   "source": [
    "utils.plot_hist_box_plot(dados,'duration_in_month','credit_risk')"
   ]
  },
  {
   "cell_type": "markdown",
   "metadata": {},
   "source": [
    "Nota-se que 82% das contas criticas ou da existencia de créditos em outro bancos são de clientes considerados bons e que 34% deste perfil possuem esta carateristica.  Além disso, mais do que 50% dos clientes indepedente do perfil não possuem créditos perdidos."
   ]
  },
  {
   "cell_type": "code",
   "execution_count": 15,
   "metadata": {},
   "outputs": [
    {
     "name": "stdout",
     "output_type": "stream",
     "text": [
      "existing credits paind back duly till now                       0.530\n",
      "critical account / other credits existing (not at this bank)    0.293\n",
      "delay in paying off in the past                                 0.088\n",
      "all credits at this band paid back duly                         0.049\n",
      "no credits tanken/all credits paid back duly                    0.040\n",
      "Name: credit_history, dtype: float64\n",
      "\n",
      "\n",
      "Porcentagem por Linha\n",
      "\n",
      "\n",
      "credit_risk                                                1         2\n",
      "credit_history                                                        \n",
      "all credits at this band paid back duly             0.428571  0.571429\n",
      "critical account / other credits existing (not ...  0.829352  0.170648\n",
      "delay in paying off in the past                     0.681818  0.318182\n",
      "existing credits paind back duly till now           0.681132  0.318868\n",
      "no credits tanken/all credits paid back duly        0.375000  0.625000\n",
      "\n",
      "\n",
      "Porcentagem por Coluna\n",
      "\n",
      "\n",
      "credit_risk                                                1         2\n",
      "credit_history                                                        \n",
      "all credits at this band paid back duly             0.030000  0.093333\n",
      "critical account / other credits existing (not ...  0.347143  0.166667\n",
      "delay in paying off in the past                     0.085714  0.093333\n",
      "existing credits paind back duly till now           0.515714  0.563333\n",
      "no credits tanken/all credits paid back duly        0.021429  0.083333\n"
     ]
    }
   ],
   "source": [
    "utils.tabela_frequencia(dados,'credit_history','credit_risk')"
   ]
  },
  {
   "cell_type": "markdown",
   "metadata": {},
   "source": [
    "Nota-se que 88% dos créditos de retreinamento são para clientes com perfis bons similar para carros usados que apresenta uma quantia de 83%."
   ]
  },
  {
   "cell_type": "code",
   "execution_count": 16,
   "metadata": {},
   "outputs": [
    {
     "name": "stdout",
     "output_type": "stream",
     "text": [
      "radio/television       0.280\n",
      "car (new)              0.234\n",
      "furniture/equipment    0.181\n",
      "car (used)             0.103\n",
      "business               0.097\n",
      "education              0.050\n",
      "reparis                0.022\n",
      "others                 0.012\n",
      "domestic appliances    0.012\n",
      "retraining             0.009\n",
      "Name: purpose, dtype: float64\n",
      "\n",
      "\n",
      "Porcentagem por Linha\n",
      "\n",
      "\n",
      "credit_risk                 1         2\n",
      "purpose                                \n",
      "business             0.649485  0.350515\n",
      "car (new)            0.619658  0.380342\n",
      "car (used)           0.834951  0.165049\n",
      "domestic appliances  0.666667  0.333333\n",
      "education            0.560000  0.440000\n",
      "furniture/equipment  0.679558  0.320442\n",
      "others               0.583333  0.416667\n",
      "radio/television     0.778571  0.221429\n",
      "reparis              0.636364  0.363636\n",
      "retraining           0.888889  0.111111\n",
      "\n",
      "\n",
      "Porcentagem por Coluna\n",
      "\n",
      "\n",
      "credit_risk                 1         2\n",
      "purpose                                \n",
      "business             0.090000  0.113333\n",
      "car (new)            0.207143  0.296667\n",
      "car (used)           0.122857  0.056667\n",
      "domestic appliances  0.011429  0.013333\n",
      "education            0.040000  0.073333\n",
      "furniture/equipment  0.175714  0.193333\n",
      "others               0.010000  0.016667\n",
      "radio/television     0.311429  0.206667\n",
      "reparis              0.020000  0.026667\n",
      "retraining           0.011429  0.003333\n"
     ]
    }
   ],
   "source": [
    "utils.tabela_frequencia(dados,'purpose','credit_risk')"
   ]
  },
  {
   "cell_type": "markdown",
   "metadata": {},
   "source": [
    "Em relação a quantidade de crédito percebe-se que há uma diferença entre os dois perfils. Clientes com perfis maus possuem a caracterstica de pedirem uma quantia maior de créditos tendo como média 3938 euros em relação a 2985 euros para perfis considerados bons."
   ]
  },
  {
   "cell_type": "code",
   "execution_count": 17,
   "metadata": {},
   "outputs": [
    {
     "name": "stdout",
     "output_type": "stream",
     "text": [
      "             count         mean          std    min     25%     50%      75%  \\\n",
      "credit_risk                                                                    \n",
      "1            700.0  2985.457143  2401.472278  250.0  1375.5  2244.0  3634.75   \n",
      "2            300.0  3938.126667  3535.818955  433.0  1352.5  2574.5  5141.50   \n",
      "\n",
      "                 max  \n",
      "credit_risk           \n",
      "1            15857.0  \n",
      "2            18424.0  \n"
     ]
    },
    {
     "data": {
      "image/png": "[encoded data removed]",
      "text/plain": [
       "<Figure size 720x360 with 2 Axes>"
      ]
     },
     "metadata": {},
     "output_type": "display_data"
    }
   ],
   "source": [
    "utils.plot_hist_box_plot(dados,'credit_amount','credit_risk')"
   ]
  },
  {
   "cell_type": "markdown",
   "metadata": {},
   "source": [
    "Nota-se que 72% dos clientes considerados maus possuem a caracteritsitca de ter menos do que 100DM na conta poupança, enquanto para perfis bons é apenas 55% onde que os outros 21% se concentram na categoria de que possuem uma conta poupança"
   ]
  },
  {
   "cell_type": "code",
   "execution_count": 18,
   "metadata": {},
   "outputs": [
    {
     "name": "stdout",
     "output_type": "stream",
     "text": [
      "< 100DM                         0.603\n",
      "unknown / no savings account    0.183\n",
      "100 <= and < 500DM              0.103\n",
      "500 <= and 1000 DM              0.063\n",
      ">= 1000 DM                      0.048\n",
      "Name: savings_account_bonds, dtype: float64\n",
      "\n",
      "\n",
      "Porcentagem por Linha\n",
      "\n",
      "\n",
      "credit_risk                          1         2\n",
      "savings_account_bonds                           \n",
      "100 <= and < 500DM            0.669903  0.330097\n",
      "500 <= and 1000 DM            0.825397  0.174603\n",
      "< 100DM                       0.640133  0.359867\n",
      ">= 1000 DM                    0.875000  0.125000\n",
      "unknown / no savings account  0.825137  0.174863\n",
      "\n",
      "\n",
      "Porcentagem por Coluna\n",
      "\n",
      "\n",
      "credit_risk                          1         2\n",
      "savings_account_bonds                           \n",
      "100 <= and < 500DM            0.098571  0.113333\n",
      "500 <= and 1000 DM            0.074286  0.036667\n",
      "< 100DM                       0.551429  0.723333\n",
      ">= 1000 DM                    0.060000  0.020000\n",
      "unknown / no savings account  0.215714  0.106667\n"
     ]
    }
   ],
   "source": [
    "utils.tabela_frequencia(dados,'savings_account_bonds','credit_risk')"
   ]
  },
  {
   "cell_type": "markdown",
   "metadata": {},
   "source": [
    "Nota-se que a maiora dos clientes possuem menos de 1 ou 4 anos no emprego. Perfis considerados maus possuem 9% a mais de clientes com menos de 1 ano empregado."
   ]
  },
  {
   "cell_type": "code",
   "execution_count": 19,
   "metadata": {},
   "outputs": [
    {
     "name": "stdout",
     "output_type": "stream",
     "text": [
      "1 <= and < 4 years    0.339\n",
      ">= 7 years            0.253\n",
      "4 <= and < 7 years    0.174\n",
      "< 1 year              0.172\n",
      "unemployed            0.062\n",
      "Name: present_employment_since, dtype: float64\n",
      "\n",
      "\n",
      "Porcentagem por Linha\n",
      "\n",
      "\n",
      "credit_risk                      1         2\n",
      "present_employment_since                    \n",
      "1 <= and < 4 years        0.693215  0.306785\n",
      "4 <= and < 7 years        0.775862  0.224138\n",
      "< 1 year                  0.593023  0.406977\n",
      ">= 7 years                0.747036  0.252964\n",
      "unemployed                0.629032  0.370968\n",
      "\n",
      "\n",
      "Porcentagem por Coluna\n",
      "\n",
      "\n",
      "credit_risk                      1         2\n",
      "present_employment_since                    \n",
      "1 <= and < 4 years        0.335714  0.346667\n",
      "4 <= and < 7 years        0.192857  0.130000\n",
      "< 1 year                  0.145714  0.233333\n",
      ">= 7 years                0.270000  0.213333\n",
      "unemployed                0.055714  0.076667\n"
     ]
    }
   ],
   "source": [
    "utils.tabela_frequencia(dados,'present_employment_since','credit_risk')"
   ]
  },
  {
   "cell_type": "markdown",
   "metadata": {},
   "source": [
    "Nota-se que não há uma diferença para taxa de parcelamento"
   ]
  },
  {
   "cell_type": "code",
   "execution_count": 20,
   "metadata": {},
   "outputs": [
    {
     "name": "stdout",
     "output_type": "stream",
     "text": [
      "             count      mean       std  min  25%  50%  75%  max\n",
      "credit_risk                                                    \n",
      "1            700.0  2.920000  1.128078  1.0  2.0  3.0  4.0  4.0\n",
      "2            300.0  3.096667  1.088395  1.0  2.0  4.0  4.0  4.0\n"
     ]
    },
    {
     "data": {
      "image/png": "[encoded data removed]",
      "text/plain": [
       "<Figure size 720x360 with 2 Axes>"
      ]
     },
     "metadata": {},
     "output_type": "display_data"
    }
   ],
   "source": [
    "utils.plot_hist_box_plot(dados,'installment_rate','credit_risk')"
   ]
  },
  {
   "cell_type": "markdown",
   "metadata": {},
   "source": [
    "A maioria dos créditos são de masculino e solteiros. Além disso, perfis considerados maus possuem uma diferença de 8% em mulheres divorcidas, separadas ou casadas em relação a perfis bons."
   ]
  },
  {
   "cell_type": "code",
   "execution_count": 21,
   "metadata": {},
   "outputs": [
    {
     "name": "stdout",
     "output_type": "stream",
     "text": [
      "male : single                          0.548\n",
      "female : divorced/separated/married    0.310\n",
      "male : married/windowed                0.092\n",
      "male : divorced/separated              0.050\n",
      "Name: personal_status_and_sex, dtype: float64\n",
      "\n",
      "\n",
      "Porcentagem por Linha\n",
      "\n",
      "\n",
      "credit_risk                                 1         2\n",
      "personal_status_and_sex                                \n",
      "female : divorced/separated/married  0.648387  0.351613\n",
      "male : divorced/separated            0.600000  0.400000\n",
      "male : married/windowed              0.728261  0.271739\n",
      "male : single                        0.733577  0.266423\n",
      "\n",
      "\n",
      "Porcentagem por Coluna\n",
      "\n",
      "\n",
      "credit_risk                                 1         2\n",
      "personal_status_and_sex                                \n",
      "female : divorced/separated/married  0.287143  0.363333\n",
      "male : divorced/separated            0.042857  0.066667\n",
      "male : married/windowed              0.095714  0.083333\n",
      "male : single                        0.574286  0.486667\n"
     ]
    }
   ],
   "source": [
    "utils.tabela_frequencia(dados,'personal_status_and_sex','credit_risk')"
   ]
  },
  {
   "cell_type": "code",
   "execution_count": 22,
   "metadata": {},
   "outputs": [],
   "source": [
    "dados['sex'] = dados['personal_status_and_sex'].str.split(':').str[0].str.strip()"
   ]
  },
  {
   "cell_type": "code",
   "execution_count": 23,
   "metadata": {},
   "outputs": [
    {
     "name": "stdout",
     "output_type": "stream",
     "text": [
      "male      0.69\n",
      "female    0.31\n",
      "Name: sex, dtype: float64\n",
      "\n",
      "\n",
      "Porcentagem por Linha\n",
      "\n",
      "\n",
      "credit_risk         1         2\n",
      "sex                            \n",
      "female       0.648387  0.351613\n",
      "male         0.723188  0.276812\n",
      "\n",
      "\n",
      "Porcentagem por Coluna\n",
      "\n",
      "\n",
      "credit_risk         1         2\n",
      "sex                            \n",
      "female       0.287143  0.363333\n",
      "male         0.712857  0.636667\n"
     ]
    }
   ],
   "source": [
    "utils.tabela_frequencia(dados,'sex','credit_risk')"
   ]
  },
  {
   "cell_type": "markdown",
   "metadata": {},
   "source": [
    "90% do conjunto de dados não apresentar nenhum outro devedor fiador."
   ]
  },
  {
   "cell_type": "code",
   "execution_count": 24,
   "metadata": {},
   "outputs": [
    {
     "name": "stdout",
     "output_type": "stream",
     "text": [
      "None            0.907\n",
      "guarantor       0.052\n",
      "co-applicant    0.041\n",
      "Name: others_debtors_guarantors, dtype: float64\n",
      "\n",
      "\n",
      "Porcentagem por Linha\n",
      "\n",
      "\n",
      "credit_risk                       1         2\n",
      "others_debtors_guarantors                    \n",
      "None                       0.700110  0.299890\n",
      "co-applicant               0.560976  0.439024\n",
      "guarantor                  0.807692  0.192308\n",
      "\n",
      "\n",
      "Porcentagem por Coluna\n",
      "\n",
      "\n",
      "credit_risk                       1         2\n",
      "others_debtors_guarantors                    \n",
      "None                       0.907143  0.906667\n",
      "co-applicant               0.032857  0.060000\n",
      "guarantor                  0.060000  0.033333\n"
     ]
    }
   ],
   "source": [
    "utils.tabela_frequencia(dados,'others_debtors_guarantors','credit_risk')"
   ]
  },
  {
   "cell_type": "markdown",
   "metadata": {},
   "source": [
    "Similar a taxa de desligamento não há uma diferença entre o tempo na residencia até então."
   ]
  },
  {
   "cell_type": "code",
   "execution_count": 25,
   "metadata": {},
   "outputs": [
    {
     "name": "stdout",
     "output_type": "stream",
     "text": [
      "             count      mean       std  min  25%  50%  75%  max\n",
      "credit_risk                                                    \n",
      "1            700.0  2.842857  1.108373  1.0  2.0  3.0  4.0  4.0\n",
      "2            300.0  2.850000  1.094605  1.0  2.0  3.0  4.0  4.0\n"
     ]
    },
    {
     "data": {
      "image/png": "[encoded data removed]",
      "text/plain": [
       "<Figure size 720x360 with 2 Axes>"
      ]
     },
     "metadata": {},
     "output_type": "display_data"
    }
   ],
   "source": [
    "utils.plot_hist_box_plot(dados,'present_residence_since','credit_risk')"
   ]
  },
  {
   "cell_type": "markdown",
   "metadata": {},
   "source": [
    "Percebe-se que 22% dos créditos com perfis considerados maus não apresentam um bem ou não, isto é uma diferença de 10% em relação créditos de perfis considerados bons. Além disso, perfis considerados bons apresentam 11% a mais de bens imobiliarios tendo com 31% em relação aos outros bens."
   ]
  },
  {
   "cell_type": "code",
   "execution_count": 26,
   "metadata": {},
   "outputs": [
    {
     "name": "stdout",
     "output_type": "stream",
     "text": [
      "if not others options : car or other, not in savings accounts/bonds       0.332\n",
      "real estate                                                               0.282\n",
      "if not real estate : building society savings agreement/life insurance    0.232\n",
      "unknown/no property                                                       0.154\n",
      "Name: property, dtype: float64\n",
      "\n",
      "\n",
      "Porcentagem por Linha\n",
      "\n",
      "\n",
      "credit_risk                                                1         2\n",
      "property                                                              \n",
      "if not others options : car or other, not in sa...  0.692771  0.307229\n",
      "if not real estate : building society savings a...  0.693966  0.306034\n",
      "real estate                                         0.787234  0.212766\n",
      "unknown/no property                                 0.564935  0.435065\n",
      "\n",
      "\n",
      "Porcentagem por Coluna\n",
      "\n",
      "\n",
      "credit_risk                                                1         2\n",
      "property                                                              \n",
      "if not others options : car or other, not in sa...  0.328571  0.340000\n",
      "if not real estate : building society savings a...  0.230000  0.236667\n",
      "real estate                                         0.317143  0.200000\n",
      "unknown/no property                                 0.124286  0.223333\n"
     ]
    }
   ],
   "source": [
    "utils.tabela_frequencia(dados,'property','credit_risk')"
   ]
  },
  {
   "cell_type": "markdown",
   "metadata": {},
   "source": [
    "Não há uma diferença significativa entre a idade dos perfis até então, percebe-se que a média é 36 anos para créditos com perfis bons enquanto para perfis maus é 33 anos."
   ]
  },
  {
   "cell_type": "code",
   "execution_count": 27,
   "metadata": {},
   "outputs": [
    {
     "name": "stdout",
     "output_type": "stream",
     "text": [
      "             count       mean        std   min   25%   50%    75%   max\n",
      "credit_risk                                                            \n",
      "1            700.0  36.224286  11.381145  19.0  27.0  34.0  42.25  75.0\n",
      "2            300.0  33.963333  11.222379  19.0  25.0  31.0  40.00  74.0\n"
     ]
    },
    {
     "data": {
      "image/png": "[encoded data removed]",
      "text/plain": [
       "<Figure size 720x360 with 2 Axes>"
      ]
     },
     "metadata": {},
     "output_type": "display_data"
    }
   ],
   "source": [
    "utils.plot_hist_box_plot(dados,'age','credit_risk')"
   ]
  },
  {
   "cell_type": "markdown",
   "metadata": {},
   "source": [
    "81% dos clientes não possuem outro tipo de parcelamento, onde que 13% apresentam a opção banco."
   ]
  },
  {
   "cell_type": "code",
   "execution_count": 28,
   "metadata": {},
   "outputs": [
    {
     "name": "stdout",
     "output_type": "stream",
     "text": [
      "None      0.814\n",
      "bank      0.139\n",
      "stores    0.047\n",
      "Name: other_installment_plans, dtype: float64\n",
      "\n",
      "\n",
      "Porcentagem por Linha\n",
      "\n",
      "\n",
      "credit_risk                     1         2\n",
      "other_installment_plans                    \n",
      "None                     0.724816  0.275184\n",
      "bank                     0.589928  0.410072\n",
      "stores                   0.595745  0.404255\n",
      "\n",
      "\n",
      "Porcentagem por Coluna\n",
      "\n",
      "\n",
      "credit_risk                     1         2\n",
      "other_installment_plans                    \n",
      "None                     0.842857  0.746667\n",
      "bank                     0.117143  0.190000\n",
      "stores                   0.040000  0.063333\n"
     ]
    }
   ],
   "source": [
    "utils.tabela_frequencia(dados,'other_installment_plans','credit_risk')"
   ]
  },
  {
   "cell_type": "markdown",
   "metadata": {},
   "source": [
    "17% apresentam que moram de aluguel e 10% apresentam como moradia gratuita. Talvez, incentivar a compra de imovel ou buscar um imovel melhor para morar."
   ]
  },
  {
   "cell_type": "code",
   "execution_count": 29,
   "metadata": {},
   "outputs": [
    {
     "name": "stdout",
     "output_type": "stream",
     "text": [
      "own         0.713\n",
      "rent        0.179\n",
      "for free    0.108\n",
      "Name: housing, dtype: float64\n",
      "\n",
      "\n",
      "Porcentagem por Linha\n",
      "\n",
      "\n",
      "credit_risk         1         2\n",
      "housing                        \n",
      "for free     0.592593  0.407407\n",
      "own          0.739130  0.260870\n",
      "rent         0.608939  0.391061\n",
      "\n",
      "\n",
      "Porcentagem por Coluna\n",
      "\n",
      "\n",
      "credit_risk         1         2\n",
      "housing                        \n",
      "for free     0.091429  0.146667\n",
      "own          0.752857  0.620000\n",
      "rent         0.155714  0.233333\n"
     ]
    }
   ],
   "source": [
    "utils.tabela_frequencia(dados,'housing','credit_risk')"
   ]
  },
  {
   "cell_type": "markdown",
   "metadata": {},
   "source": [
    "A maioria dos clientes bons apresentam em média 1,42 credítos no banco e 1,36 credítos para perfis ruis. Tendo ambos perfis o máximo valor de 4 créditos."
   ]
  },
  {
   "cell_type": "code",
   "execution_count": 30,
   "metadata": {},
   "outputs": [
    {
     "name": "stdout",
     "output_type": "stream",
     "text": [
      "             count      mean       std  min  25%  50%  75%  max\n",
      "credit_risk                                                    \n",
      "1            700.0  1.424286  0.584721  1.0  1.0  1.0  2.0  4.0\n",
      "2            300.0  1.366667  0.559702  1.0  1.0  1.0  2.0  4.0\n"
     ]
    },
    {
     "data": {
      "image/png": "[encoded data removed]",
      "text/plain": [
       "<Figure size 720x360 with 2 Axes>"
      ]
     },
     "metadata": {},
     "output_type": "display_data"
    }
   ],
   "source": [
    "utils.plot_hist_box_plot(dados,'number_of_existing_credits_at_this_bank','credit_risk')"
   ]
  },
  {
   "cell_type": "markdown",
   "metadata": {},
   "source": [
    "63% dos clientes funcionário / são oficiais"
   ]
  },
  {
   "cell_type": "code",
   "execution_count": 31,
   "metadata": {},
   "outputs": [
    {
     "name": "stdout",
     "output_type": "stream",
     "text": [
      "skilled employee /official                                    0.630\n",
      "unskilled-resident                                            0.200\n",
      "management/self-employed/highly qualified employee/officer    0.148\n",
      "unemployed/unskilled-non-resident                             0.022\n",
      "Name: job, dtype: float64\n",
      "\n",
      "\n",
      "Porcentagem por Linha\n",
      "\n",
      "\n",
      "credit_risk                                                1         2\n",
      "job                                                                   \n",
      "management/self-employed/highly qualified emplo...  0.655405  0.344595\n",
      "skilled employee /official                          0.704762  0.295238\n",
      "unemployed/unskilled-non-resident                   0.681818  0.318182\n",
      "unskilled-resident                                  0.720000  0.280000\n",
      "\n",
      "\n",
      "Porcentagem por Coluna\n",
      "\n",
      "\n",
      "credit_risk                                                1         2\n",
      "job                                                                   \n",
      "management/self-employed/highly qualified emplo...  0.138571  0.170000\n",
      "skilled employee /official                          0.634286  0.620000\n",
      "unemployed/unskilled-non-resident                   0.021429  0.023333\n",
      "unskilled-resident                                  0.205714  0.186667\n"
     ]
    }
   ],
   "source": [
    "utils.tabela_frequencia(dados,'job','credit_risk')"
   ]
  },
  {
   "cell_type": "markdown",
   "metadata": {},
   "source": [
    "Nota-se que é para ambos os perfis apenas 1 pessoa é responsavel pela manutenção da conta."
   ]
  },
  {
   "cell_type": "code",
   "execution_count": 32,
   "metadata": {},
   "outputs": [
    {
     "name": "stdout",
     "output_type": "stream",
     "text": [
      "             count      mean       std  min  25%  50%  75%  max\n",
      "credit_risk                                                    \n",
      "1            700.0  1.155714  0.362844  1.0  1.0  1.0  1.0  2.0\n",
      "2            300.0  1.153333  0.360911  1.0  1.0  1.0  1.0  2.0\n"
     ]
    },
    {
     "data": {
      "image/png": "[encoded data removed]",
      "text/plain": [
       "<Figure size 720x360 with 2 Axes>"
      ]
     },
     "metadata": {},
     "output_type": "display_data"
    }
   ],
   "source": [
    "utils.plot_hist_box_plot(dados,'number_of_people_being_liable_to_provid_maintenance_for','credit_risk')"
   ]
  },
  {
   "cell_type": "markdown",
   "metadata": {},
   "source": [
    "A maioria dos clientes não possuem telefone."
   ]
  },
  {
   "cell_type": "code",
   "execution_count": 33,
   "metadata": {},
   "outputs": [
    {
     "name": "stdout",
     "output_type": "stream",
     "text": [
      "None                                        0.596\n",
      "yes, registered under the customers name    0.404\n",
      "Name: telephone, dtype: float64\n",
      "\n",
      "\n",
      "Porcentagem por Linha\n",
      "\n",
      "\n",
      "credit_risk                                      1         2\n",
      "telephone                                                   \n",
      "None                                      0.686242  0.313758\n",
      "yes, registered under the customers name  0.720297  0.279703\n",
      "\n",
      "\n",
      "Porcentagem por Coluna\n",
      "\n",
      "\n",
      "credit_risk                                      1         2\n",
      "telephone                                                   \n",
      "None                                      0.584286  0.623333\n",
      "yes, registered under the customers name  0.415714  0.376667\n"
     ]
    }
   ],
   "source": [
    "utils.tabela_frequencia(dados,'telephone','credit_risk')"
   ]
  },
  {
   "cell_type": "markdown",
   "metadata": {},
   "source": [
    "96% dos créditos são de trabalhadores estrangeiros"
   ]
  },
  {
   "cell_type": "code",
   "execution_count": 34,
   "metadata": {},
   "outputs": [
    {
     "name": "stdout",
     "output_type": "stream",
     "text": [
      "yes    0.963\n",
      "no     0.037\n",
      "Name: foreign_worker, dtype: float64\n",
      "\n",
      "\n",
      "Porcentagem por Linha\n",
      "\n",
      "\n",
      "credit_risk            1         2\n",
      "foreign_worker                    \n",
      "no              0.891892  0.108108\n",
      "yes             0.692627  0.307373\n",
      "\n",
      "\n",
      "Porcentagem por Coluna\n",
      "\n",
      "\n",
      "credit_risk            1         2\n",
      "foreign_worker                    \n",
      "no              0.047143  0.013333\n",
      "yes             0.952857  0.986667\n"
     ]
    }
   ],
   "source": [
    "utils.tabela_frequencia(dados,'foreign_worker','credit_risk')"
   ]
  },
  {
   "cell_type": "markdown",
   "metadata": {},
   "source": [
    "<a id='conclusao'></a>\n",
    "#### Conclusões e Recomendações:\n",
    "* Nota-se que 82% das contas criticas ou da existencia de créditos em outro bancos são de clientes considerados bons e que 34% deste perfil possuem esta carateristica. Desta forma, recomenda-se incentivar os bons clientes a adquirir mais créditos no banco e não em correntes;\n",
    "\n",
    "* Clientes com perfis maus possuem a caracterstica de pedirem uma quantia maior de créditos tendo como média 3938 euros em relação a 2985 euros para perfis considerados bons. Aconselha-se a criação de limites de créditos por quantidade de créditos ou tempo.\n",
    "\n",
    "* A maioria dos clientes bons apresentam em média 1,42 credítos no banco e 1,36 credítos para perfis ruis. Tendo ambos perfis o máximo valor de 4 créditos;\n",
    "\n",
    "* Nota-se que 72% dos clientes considerados maus possuem a caracteritsitca de ter menos do que 100DM na conta poupança, enquanto para perfis bons é apenas 55% onde que os outros 21% se concentram na categoria de que possuem uma conta poupança. Desta forma, aconselha-se a recomendação de conta poupança para bons clientes;\n",
    "\n",
    "* 81% dos clientes não possuem outro tipo de parcelamento, onde que 13% apresentam a opção banco;\n",
    "\n",
    "* 22% dos créditos com perfis considerados maus não apresentam um bem ou não, isto é uma diferença de 10% em relação créditos de perfis considerados bons. Além disso, perfis considerados bons apresentam 11% a mais de bens imobiliarios tendo com 31% em relação aos outros bens;\n",
    "\n",
    "* A média é 36 anos para créditos com perfis bons enquanto para perfis maus é 33 anos;\n",
    "\n",
    "* 69% dos créditos são do genero Masculino. Além disso, perfis considerados maus possuem uma diferença de 8% em mulheres divorcidas, separadas ou casadas em relação a perfis bons. Desta forma, recomenda-se trazer mais diversidade para o uso de créditos;\n",
    "\n",
    "* 17% apresentam que moram de aluguel e 10% apresentam como moradia gratuita. Como recomendação, o incentivo de compra de imoveis ou a busca de um imovel melhor para morar através de créditos;\n",
    "\n",
    "* A maioria dos clientes não possuem telefone;\n",
    "\n",
    "\n",
    "\n",
    "\n"
   ]
  },
  {
   "cell_type": "markdown",
   "metadata": {},
   "source": [
    "<a id='criacaomodelo'></a>\n",
    "### Criação do Modelo:\n",
    "\n",
    "Um modelo criado, satafiz a condidação de preveer dados futuros e também entender quais são as principais caracteristicas que diferem de um crédito com perfil bom para um mau. Para isso são seguidos 4 passos:\n",
    "1. Seleção de Atributos\n",
    "2. Transformação de variáveis categoricas para númericas\n",
    "3. Treino e Teste de modelos\n",
    "\n",
    "<a id='selecaoatributos'></a>\n",
    "#### 1. Seleção de Atributos:\n",
    "Esta etapa do processo, busca selecionar atributos que estão correlacionados com a variável alvo e que são relevantes para distinção entre os grupos da variável alvo. As duas técnicas abordadas para selecionar as variáveis analisam a variança entre os dados em relação aos grupos, verificando se há uma distinção.\n",
    "\n",
    "Para variáveis categoricas foi utilizado o método de chi-quadrado e para variáveis númericas o método t-test."
   ]
  },
  {
   "cell_type": "code",
   "execution_count": 35,
   "metadata": {},
   "outputs": [],
   "source": [
    "def get_p_value_dependencia(dados,coluna):\n",
    "    dtype_coluna = dados[coluna].dtype\n",
    "    if dtype_coluna == 'O':\n",
    "        contigencia = pd.crosstab(dados[coluna], dados['credit_risk'])\n",
    "        return chi2_contingency(contigencia)[1]\n",
    "    return ttest_ind(dados[dados['credit_risk']==1][coluna], dados[dados['credit_risk']==2][coluna])[1]"
   ]
  },
  {
   "cell_type": "markdown",
   "metadata": {},
   "source": [
    "Foi utilizado como valor de significância estatística 0,05 (p-value), ou seja, se o p-value for menor do que 0,05 indica-se que há uma diferença entre aquele atributo para os dois tipos de perfis."
   ]
  },
  {
   "cell_type": "markdown",
   "metadata": {},
   "source": [
    "Nota-se que não podemos assumir se há uma diferença entre os perfis para os atributos:\n",
    "* Emprego (Job)\n",
    "* Tempo na residência (present residence since)\n",
    "* Número de créditos existentes no banco (number of existing credits at this bank)\n",
    "* Número de pessoas responsáveis por fornecer manutenção para (number of people being liable to provid maintenance for)"
   ]
  },
  {
   "cell_type": "code",
   "execution_count": 39,
   "metadata": {},
   "outputs": [
    {
     "data": {
      "text/html": [
       "<div>\n",
       "<style scoped>\n",
       "    .dataframe tbody tr th:only-of-type {\n",
       "        vertical-align: middle;\n",
       "    }\n",
       "\n",
       "    .dataframe tbody tr th {\n",
       "        vertical-align: top;\n",
       "    }\n",
       "\n",
       "    .dataframe thead th {\n",
       "        text-align: right;\n",
       "    }\n",
       "</style>\n",
       "<table border=\"1\" class=\"dataframe\">\n",
       "  <thead>\n",
       "    <tr style=\"text-align: right;\">\n",
       "      <th></th>\n",
       "      <th>coluna</th>\n",
       "      <th>p-value</th>\n",
       "    </tr>\n",
       "  </thead>\n",
       "  <tbody>\n",
       "    <tr>\n",
       "      <th>10</th>\n",
       "      <td>present_residence_since</td>\n",
       "      <td>9.253374e-01</td>\n",
       "    </tr>\n",
       "    <tr>\n",
       "      <th>17</th>\n",
       "      <td>number_of_people_being_liable_to_provid_mainte...</td>\n",
       "      <td>9.241409e-01</td>\n",
       "    </tr>\n",
       "    <tr>\n",
       "      <th>16</th>\n",
       "      <td>job</td>\n",
       "      <td>5.965816e-01</td>\n",
       "    </tr>\n",
       "    <tr>\n",
       "      <th>18</th>\n",
       "      <td>telephone</td>\n",
       "      <td>2.788762e-01</td>\n",
       "    </tr>\n",
       "    <tr>\n",
       "      <th>15</th>\n",
       "      <td>number_of_existing_credits_at_this_bank</td>\n",
       "      <td>1.484198e-01</td>\n",
       "    </tr>\n",
       "    <tr>\n",
       "      <th>9</th>\n",
       "      <td>others_debtors_guarantors</td>\n",
       "      <td>3.605595e-02</td>\n",
       "    </tr>\n",
       "    <tr>\n",
       "      <th>8</th>\n",
       "      <td>personal_status_and_sex</td>\n",
       "      <td>2.223801e-02</td>\n",
       "    </tr>\n",
       "    <tr>\n",
       "      <th>7</th>\n",
       "      <td>installment_rate</td>\n",
       "      <td>2.203549e-02</td>\n",
       "    </tr>\n",
       "    <tr>\n",
       "      <th>21</th>\n",
       "      <td>sex</td>\n",
       "      <td>2.073991e-02</td>\n",
       "    </tr>\n",
       "    <tr>\n",
       "      <th>19</th>\n",
       "      <td>foreign_worker</td>\n",
       "      <td>1.583075e-02</td>\n",
       "    </tr>\n",
       "    <tr>\n",
       "      <th>12</th>\n",
       "      <td>age</td>\n",
       "      <td>3.925339e-03</td>\n",
       "    </tr>\n",
       "    <tr>\n",
       "      <th>13</th>\n",
       "      <td>other_installment_plans</td>\n",
       "      <td>1.629318e-03</td>\n",
       "    </tr>\n",
       "    <tr>\n",
       "      <th>6</th>\n",
       "      <td>present_employment_since</td>\n",
       "      <td>1.045452e-03</td>\n",
       "    </tr>\n",
       "    <tr>\n",
       "      <th>3</th>\n",
       "      <td>purpose</td>\n",
       "      <td>1.157491e-04</td>\n",
       "    </tr>\n",
       "    <tr>\n",
       "      <th>14</th>\n",
       "      <td>housing</td>\n",
       "      <td>1.116747e-04</td>\n",
       "    </tr>\n",
       "    <tr>\n",
       "      <th>11</th>\n",
       "      <td>property</td>\n",
       "      <td>2.858442e-05</td>\n",
       "    </tr>\n",
       "    <tr>\n",
       "      <th>4</th>\n",
       "      <td>credit_amount</td>\n",
       "      <td>8.797572e-07</td>\n",
       "    </tr>\n",
       "    <tr>\n",
       "      <th>5</th>\n",
       "      <td>savings_account_bonds</td>\n",
       "      <td>2.761214e-07</td>\n",
       "    </tr>\n",
       "    <tr>\n",
       "      <th>1</th>\n",
       "      <td>duration_in_month</td>\n",
       "      <td>6.488050e-12</td>\n",
       "    </tr>\n",
       "    <tr>\n",
       "      <th>2</th>\n",
       "      <td>credit_history</td>\n",
       "      <td>1.279187e-12</td>\n",
       "    </tr>\n",
       "    <tr>\n",
       "      <th>0</th>\n",
       "      <td>status_of_existing_checking_account</td>\n",
       "      <td>1.218902e-26</td>\n",
       "    </tr>\n",
       "    <tr>\n",
       "      <th>20</th>\n",
       "      <td>credit_risk</td>\n",
       "      <td>0.000000e+00</td>\n",
       "    </tr>\n",
       "  </tbody>\n",
       "</table>\n",
       "</div>"
      ],
      "text/plain": [
       "                                               coluna       p-value\n",
       "10                            present_residence_since  9.253374e-01\n",
       "17  number_of_people_being_liable_to_provid_mainte...  9.241409e-01\n",
       "16                                                job  5.965816e-01\n",
       "18                                          telephone  2.788762e-01\n",
       "15            number_of_existing_credits_at_this_bank  1.484198e-01\n",
       "9                           others_debtors_guarantors  3.605595e-02\n",
       "8                             personal_status_and_sex  2.223801e-02\n",
       "7                                    installment_rate  2.203549e-02\n",
       "21                                                sex  2.073991e-02\n",
       "19                                     foreign_worker  1.583075e-02\n",
       "12                                                age  3.925339e-03\n",
       "13                            other_installment_plans  1.629318e-03\n",
       "6                            present_employment_since  1.045452e-03\n",
       "3                                             purpose  1.157491e-04\n",
       "14                                            housing  1.116747e-04\n",
       "11                                           property  2.858442e-05\n",
       "4                                       credit_amount  8.797572e-07\n",
       "5                               savings_account_bonds  2.761214e-07\n",
       "1                                   duration_in_month  6.488050e-12\n",
       "2                                      credit_history  1.279187e-12\n",
       "0                 status_of_existing_checking_account  1.218902e-26\n",
       "20                                        credit_risk  0.000000e+00"
      ]
     },
     "execution_count": 39,
     "metadata": {},
     "output_type": "execute_result"
    }
   ],
   "source": [
    "result_p_value = []\n",
    "for i in dados.columns:\n",
    "    result_p_value.append({'coluna':i,'p-value':get_p_value_dependencia(dados,i)})\n",
    "dados_p_value = pd.DataFrame(result_p_value)\n",
    "dados_p_value.sort_values(by='p-value',ascending=False)"
   ]
  },
  {
   "cell_type": "code",
   "execution_count": 40,
   "metadata": {},
   "outputs": [],
   "source": [
    "colunas_remover = list(dados_p_value[dados_p_value['p-value'] > 0.05]['coluna'].values)\n",
    "dados_m_attb = dados.drop(colunas_remover,axis=1).copy()"
   ]
  },
  {
   "cell_type": "markdown",
   "metadata": {},
   "source": [
    "<a id='tranformcaoattb'></a>\n",
    "#### 2. Transformação de variáveis categoricas para númericas:\n",
    "\n",
    "A maioria dos algoritmos para modelagem são feitos em base de números para realizar a computação. Desta forma, é necessário converter dados categoricos para valores númericos. Para atributos que possuem uma ordem ou comparação entre os valores foi transformado a categoria em valores ordenados de 1 até 5 e para atributos que não são ordinais foi tranformados para colunas em que cada coluna representa se aquele tipo de categoria esta presente ou não (One hot encoding)\n",
    "\n",
    "Criando os conjuntos de dados para dados ordinais:"
   ]
  },
  {
   "cell_type": "code",
   "execution_count": 41,
   "metadata": {},
   "outputs": [],
   "source": [
    "status_of_existing_checking_account_ordinal_label = {\n",
    "    'no checking account':0,\n",
    "    '< 0 DM': 1,\n",
    "    '0 <= and < 200 DM':2,\n",
    "    '> 200DM / salary assignments for at least 1 year':3\n",
    "}\n",
    "\n",
    "savings_account_bonds_ordinal_label = {\n",
    "    'unknown / no savings account':0,\n",
    "    '< 100DM':1,\n",
    "    '500 <= and 1000 DM':2,\n",
    "    '>= 1000 DM':3,\n",
    "    '100 <= and < 500DM':4\n",
    "}\n",
    "\n",
    "present_employment_since_ordinal_label = {\n",
    "    'unemployed':0,\n",
    "    '>= 7 years':1,\n",
    "    '1 <= and < 4 years':2,\n",
    "    '4 <= and < 7 years':3,\n",
    "    '< 1 year': 4\n",
    "}\n",
    "\n",
    "credit_risk_label = {\n",
    "    1:0,\n",
    "    2:1\n",
    "}"
   ]
  },
  {
   "cell_type": "markdown",
   "metadata": {},
   "source": [
    "Mapeando os valores categoricos para númericos:"
   ]
  },
  {
   "cell_type": "code",
   "execution_count": 38,
   "metadata": {},
   "outputs": [],
   "source": [
    "dados_m_attb['status_of_existing_checking_account_ordinal_label'] = dados_m_attb['status_of_existing_checking_account'].map(status_of_existing_checking_account_ordinal_label)\n",
    "dados_m_attb['savings_account_bonds_ordinal_label'] = dados_m_attb['savings_account_bonds'].map(savings_account_bonds_ordinal_label)\n",
    "dados_m_attb['present_employment_since_ordinal_label'] = dados_m_attb['present_employment_since'].map(present_employment_since_ordinal_label)\n",
    "dados_m_attb['credit_risk'] = dados_m_attb['credit_risk'].map(credit_risk_label)\n",
    "dados_m_attb.drop(['status_of_existing_checking_account','savings_account_bonds','present_employment_since'],axis=1,inplace=True)"
   ]
  },
  {
   "cell_type": "markdown",
   "metadata": {},
   "source": [
    "Selecionado atributos categoricos e sem ordem para aplicar o one hot encoding:"
   ]
  },
  {
   "cell_type": "code",
   "execution_count": 39,
   "metadata": {},
   "outputs": [],
   "source": [
    "col_categoriacas = ['credit_history','foreign_worker',\n",
    "                    'housing','other_installment_plans','others_debtors_guarantors',\n",
    "                    'personal_status_and_sex','property','purpose','sex']\n",
    "dummbies_categoricos = pd.get_dummies(dados_m_attb[col_categoriacas],prefix=col_categoriacas,drop_first=True)\n",
    "dados_m_attb.drop(col_categoriacas,axis=1,inplace=True)\n",
    "dados_m_attb = pd.concat([dados_m_attb,dummbies_categoricos],axis=1)"
   ]
  },
  {
   "cell_type": "markdown",
   "metadata": {},
   "source": [
    "Percebe-se que a maioria dos atributos númericos não precisam de uma transformação, visto que a média é similar próxima a mediana e que também o desvio padrão é baixo."
   ]
  },
  {
   "cell_type": "code",
   "execution_count": 40,
   "metadata": {},
   "outputs": [
    {
     "data": {
      "text/html": [
       "<div>\n",
       "<style scoped>\n",
       "    .dataframe tbody tr th:only-of-type {\n",
       "        vertical-align: middle;\n",
       "    }\n",
       "\n",
       "    .dataframe tbody tr th {\n",
       "        vertical-align: top;\n",
       "    }\n",
       "\n",
       "    .dataframe thead th {\n",
       "        text-align: right;\n",
       "    }\n",
       "</style>\n",
       "<table border=\"1\" class=\"dataframe\">\n",
       "  <thead>\n",
       "    <tr style=\"text-align: right;\">\n",
       "      <th></th>\n",
       "      <th>age</th>\n",
       "      <th>credit_amount</th>\n",
       "      <th>duration_in_month</th>\n",
       "      <th>installment_rate</th>\n",
       "      <th>present_residence_since</th>\n",
       "      <th>number_of_existing_credits_at_this_bank</th>\n",
       "      <th>number_of_people_being_liable_to_provid_maintenance_for</th>\n",
       "    </tr>\n",
       "  </thead>\n",
       "  <tbody>\n",
       "    <tr>\n",
       "      <th>count</th>\n",
       "      <td>1000.000000</td>\n",
       "      <td>1000.000000</td>\n",
       "      <td>1000.000000</td>\n",
       "      <td>1000.000000</td>\n",
       "      <td>1000.000000</td>\n",
       "      <td>1000.000000</td>\n",
       "      <td>1000.000000</td>\n",
       "    </tr>\n",
       "    <tr>\n",
       "      <th>mean</th>\n",
       "      <td>35.546000</td>\n",
       "      <td>3271.258000</td>\n",
       "      <td>20.903000</td>\n",
       "      <td>2.973000</td>\n",
       "      <td>2.845000</td>\n",
       "      <td>1.407000</td>\n",
       "      <td>1.155000</td>\n",
       "    </tr>\n",
       "    <tr>\n",
       "      <th>std</th>\n",
       "      <td>11.375469</td>\n",
       "      <td>2822.736876</td>\n",
       "      <td>12.058814</td>\n",
       "      <td>1.118715</td>\n",
       "      <td>1.103718</td>\n",
       "      <td>0.577654</td>\n",
       "      <td>0.362086</td>\n",
       "    </tr>\n",
       "    <tr>\n",
       "      <th>min</th>\n",
       "      <td>19.000000</td>\n",
       "      <td>250.000000</td>\n",
       "      <td>4.000000</td>\n",
       "      <td>1.000000</td>\n",
       "      <td>1.000000</td>\n",
       "      <td>1.000000</td>\n",
       "      <td>1.000000</td>\n",
       "    </tr>\n",
       "    <tr>\n",
       "      <th>25%</th>\n",
       "      <td>27.000000</td>\n",
       "      <td>1365.500000</td>\n",
       "      <td>12.000000</td>\n",
       "      <td>2.000000</td>\n",
       "      <td>2.000000</td>\n",
       "      <td>1.000000</td>\n",
       "      <td>1.000000</td>\n",
       "    </tr>\n",
       "    <tr>\n",
       "      <th>50%</th>\n",
       "      <td>33.000000</td>\n",
       "      <td>2319.500000</td>\n",
       "      <td>18.000000</td>\n",
       "      <td>3.000000</td>\n",
       "      <td>3.000000</td>\n",
       "      <td>1.000000</td>\n",
       "      <td>1.000000</td>\n",
       "    </tr>\n",
       "    <tr>\n",
       "      <th>75%</th>\n",
       "      <td>42.000000</td>\n",
       "      <td>3972.250000</td>\n",
       "      <td>24.000000</td>\n",
       "      <td>4.000000</td>\n",
       "      <td>4.000000</td>\n",
       "      <td>2.000000</td>\n",
       "      <td>1.000000</td>\n",
       "    </tr>\n",
       "    <tr>\n",
       "      <th>max</th>\n",
       "      <td>75.000000</td>\n",
       "      <td>18424.000000</td>\n",
       "      <td>72.000000</td>\n",
       "      <td>4.000000</td>\n",
       "      <td>4.000000</td>\n",
       "      <td>4.000000</td>\n",
       "      <td>2.000000</td>\n",
       "    </tr>\n",
       "  </tbody>\n",
       "</table>\n",
       "</div>"
      ],
      "text/plain": [
       "               age  credit_amount  duration_in_month  installment_rate  \\\n",
       "count  1000.000000    1000.000000        1000.000000       1000.000000   \n",
       "mean     35.546000    3271.258000          20.903000          2.973000   \n",
       "std      11.375469    2822.736876          12.058814          1.118715   \n",
       "min      19.000000     250.000000           4.000000          1.000000   \n",
       "25%      27.000000    1365.500000          12.000000          2.000000   \n",
       "50%      33.000000    2319.500000          18.000000          3.000000   \n",
       "75%      42.000000    3972.250000          24.000000          4.000000   \n",
       "max      75.000000   18424.000000          72.000000          4.000000   \n",
       "\n",
       "       present_residence_since  number_of_existing_credits_at_this_bank  \\\n",
       "count              1000.000000                              1000.000000   \n",
       "mean                  2.845000                                 1.407000   \n",
       "std                   1.103718                                 0.577654   \n",
       "min                   1.000000                                 1.000000   \n",
       "25%                   2.000000                                 1.000000   \n",
       "50%                   3.000000                                 1.000000   \n",
       "75%                   4.000000                                 2.000000   \n",
       "max                   4.000000                                 4.000000   \n",
       "\n",
       "       number_of_people_being_liable_to_provid_maintenance_for  \n",
       "count                                        1000.000000        \n",
       "mean                                            1.155000        \n",
       "std                                             0.362086        \n",
       "min                                             1.000000        \n",
       "25%                                             1.000000        \n",
       "50%                                             1.000000        \n",
       "75%                                             1.000000        \n",
       "max                                             2.000000        "
      ]
     },
     "execution_count": 40,
     "metadata": {},
     "output_type": "execute_result"
    }
   ],
   "source": [
    "col_numericas = ['age','credit_amount','duration_in_month',\n",
    "                 'installment_rate','present_employment_since','present_residence_since',\n",
    "                 'number_of_existing_credits_at_this_bank','number_of_people_being_liable_to_provid_maintenance_for']\n",
    "dados[col_numericas].describe()"
   ]
  },
  {
   "cell_type": "markdown",
   "metadata": {},
   "source": [
    "<a id='treinoeteste'></a>\n",
    "#### 3. Treino e Teste de modelos\n",
    "\n",
    "Como modelos de predição e análise, buscou-se utilizar algoritmos de fácil interpretação. Além disso, há o problema do desbalanceamento das classes onde que 70% dos perfis são bons e 30% são maus.\n",
    "\n",
    "Como métricas de validação foi utilizado:\n",
    "\n",
    "* Acurácia - Número de predições testadas que estão corretas\n",
    "* Recall (Sensibilidade) - A proporção de observações positivas preditas corretamente para todas as observações na classe correta (que deveria ser)\n"
   ]
  },
  {
   "cell_type": "code",
   "execution_count": 41,
   "metadata": {},
   "outputs": [],
   "source": [
    "def exec_modelo(model,X_train,X_test,Y_train,y_test):\n",
    "    print(type(model).__name__)\n",
    "    model.fit(X_train,y_train)\n",
    "    y_pred = model.predict(X_test)\n",
    "     \n",
    "    print(\"Acurácia: {:.2f}\".format(accuracy_score(y_test,y_pred) * 100))\n",
    "    print(classification_report(y_test,y_pred))"
   ]
  },
  {
   "cell_type": "markdown",
   "metadata": {},
   "source": [
    "Como primeiro modelo, foi utilizado uma regressão lógistica para verificar a acurácia e quanto o modelo poderia ser afetado pelo desbalanceamento das classes."
   ]
  },
  {
   "cell_type": "code",
   "execution_count": 42,
   "metadata": {},
   "outputs": [],
   "source": [
    "X = dados_m_attb.drop('credit_risk',axis=1)\n",
    "y = dados_m_attb['credit_risk']\n",
    "X_train, X_test, y_train, y_test = train_test_split(X,y, test_size=0.30,random_state=42, stratify=y)"
   ]
  },
  {
   "cell_type": "markdown",
   "metadata": {},
   "source": [
    "Nota-se que o modelo apresentado, possui uma acurácia de 73%, contudo um recall para classe desbalanceada de 32%, isto é, 68% do de perfis que eram para ser considerados maus estão sendo considerados bons. Desta forma, há necessidade de realizar um balanceamento de classes no conjunto de dados."
   ]
  },
  {
   "cell_type": "code",
   "execution_count": 43,
   "metadata": {},
   "outputs": [
    {
     "name": "stdout",
     "output_type": "stream",
     "text": [
      "LogisticRegression\n",
      "Acurácia: 73.67\n",
      "              precision    recall  f1-score   support\n",
      "\n",
      "           0       0.76      0.91      0.83       210\n",
      "           1       0.62      0.32      0.42        90\n",
      "\n",
      "    accuracy                           0.74       300\n",
      "   macro avg       0.69      0.62      0.63       300\n",
      "weighted avg       0.72      0.74      0.71       300\n",
      "\n"
     ]
    }
   ],
   "source": [
    "exec_modelo(LogisticRegression(max_iter=1000, random_state=42), X_train, X_test, y_train, y_test)"
   ]
  },
  {
   "cell_type": "markdown",
   "metadata": {},
   "source": [
    "Para o método de balanceamento de classes, foi utilizado duas técnicas:\n",
    "* under_sampling (NearMiss) - Dimunição da amostragem de dados, utilizando técnicas de agrupamento. O algoritmo NearMiss, busca eliminar dados da classe majoritária que possuem caracteristicas mais proximas da classe desbalanceda.\n",
    "\n",
    "\n",
    "* over_sampling (SMOTE) - Buscar inserir dados sintéticos através de técnicas de agrupamento. O algoritmo smote, escolhe dados aleatórios da classe minoritária e depois os k-vizinhos mais proximos destes dados. Desta forma, os dados sintéticos são criados entre dado aleatório da classe minoritária e o vizinho mais próximo.\n",
    "\n",
    "Utilizando o modelo de NearMiss, ou seja, criar um conjunto de dados com 300 linhas de perfils bons e 300 maus. Percebe-se que a acurácia do modelo aumentou 3%, porém seu recall para perfis maus aumentou em 40% de assertividade."
   ]
  },
  {
   "cell_type": "code",
   "execution_count": 44,
   "metadata": {},
   "outputs": [
    {
     "name": "stdout",
     "output_type": "stream",
     "text": [
      "LogisticRegression\n",
      "Acurácia: 76.67\n",
      "              precision    recall  f1-score   support\n",
      "\n",
      "           0       0.74      0.81      0.78        75\n",
      "           1       0.79      0.72      0.76        75\n",
      "\n",
      "    accuracy                           0.77       150\n",
      "   macro avg       0.77      0.77      0.77       150\n",
      "weighted avg       0.77      0.77      0.77       150\n",
      "\n",
      "1    225\n",
      "0    225\n",
      "Name: credit_risk, dtype: int64\n"
     ]
    }
   ],
   "source": [
    "nr = NearMiss()\n",
    "X_nr,y_nr = nr.fit_resample(X,y)\n",
    "X_train, X_test, y_train, y_test = train_test_split(X_nr,y_nr, random_state=23, stratify=y_nr)\n",
    "\n",
    "lr = LogisticRegression(max_iter=1000,random_state=10)\n",
    "exec_modelo(lr, X_train, X_test, y_train, y_test)\n",
    "\n",
    "print(y_train.value_counts())"
   ]
  },
  {
   "cell_type": "markdown",
   "metadata": {},
   "source": [
    "Utilizando o método de Smote, percebe-se que houve um aumento de 4% na acuracia do modelo comparado ao modelo desbalanceado e um recall de 43% melhor. Em relação a técnica de under sampling, percebe-se que o modelo apresentou uma performace melhor tanto para acurácia, quanto para recall"
   ]
  },
  {
   "cell_type": "code",
   "execution_count": 45,
   "metadata": {},
   "outputs": [
    {
     "name": "stdout",
     "output_type": "stream",
     "text": [
      "LogisticRegression\n",
      "Acurácia: 77.14\n",
      "              precision    recall  f1-score   support\n",
      "\n",
      "           0       0.76      0.80      0.78       175\n",
      "           1       0.79      0.74      0.76       175\n",
      "\n",
      "    accuracy                           0.77       350\n",
      "   macro avg       0.77      0.77      0.77       350\n",
      "weighted avg       0.77      0.77      0.77       350\n",
      "\n",
      "1    525\n",
      "0    525\n",
      "Name: credit_risk, dtype: int64\n"
     ]
    }
   ],
   "source": [
    "smt = SMOTE()\n",
    "X_smt, y_smt = smt.fit_resample(X,y)\n",
    "\n",
    "X_train, X_test, y_train, y_test = train_test_split(X_smt,y_smt, random_state=23, stratify=y_smt)\n",
    "\n",
    "lr = LogisticRegression(max_iter=1000,random_state=90)\n",
    "exec_modelo(lr, X_train, X_test, y_train, y_test)\n",
    "print(y_train.value_counts())"
   ]
  },
  {
   "cell_type": "markdown",
   "metadata": {},
   "source": [
    "Percebe-se que utilizando um modelo de ensemble e outro modelo interpretavel que é árvores de decisões. Métodos de ensemble utilizam a combinação de vários modelos que neste caso são árvores de decisões para se obter um resultado único que é dado pela voto da maioria para aquela classe.\n",
    "\n",
    "A acurácia  deste modelo, aumentou em 4% utilizando a tecnica de SMOTE e aumentou em 5% o recall para perfis maus em relação ao modelo de regressão logística com SMOTE. "
   ]
  },
  {
   "cell_type": "code",
   "execution_count": 46,
   "metadata": {},
   "outputs": [
    {
     "name": "stdout",
     "output_type": "stream",
     "text": [
      "RandomForestClassifier\n",
      "Acurácia: 80.57\n",
      "              precision    recall  f1-score   support\n",
      "\n",
      "           0       0.80      0.82      0.81       175\n",
      "           1       0.82      0.79      0.80       175\n",
      "\n",
      "    accuracy                           0.81       350\n",
      "   macro avg       0.81      0.81      0.81       350\n",
      "weighted avg       0.81      0.81      0.81       350\n",
      "\n"
     ]
    }
   ],
   "source": [
    "rc = RandomForestClassifier(n_estimators=100, random_state = 42)\n",
    "exec_modelo(rc, X_train, X_test, y_train, y_test)"
   ]
  },
  {
   "cell_type": "markdown",
   "metadata": {},
   "source": [
    "<a id='escolhamodelofinal'></a>\n",
    "Como modelo será utilizado o RandomForest por apresentar uma acurácia maior e um recall."
   ]
  },
  {
   "cell_type": "code",
   "execution_count": 47,
   "metadata": {},
   "outputs": [],
   "source": [
    "pickle.dump(rc, open('model.pkl', 'wb'))"
   ]
  },
  {
   "cell_type": "markdown",
   "metadata": {},
   "source": [
    "\n",
    "Os principais atributos que distinguem entre perfis bons e maus são:\n",
    "\n",
    "* Quantidade de crédito\n",
    "* status da conta corrente existente\n",
    "* idade\n",
    "* duração no mês\n",
    "* conta crítica do histórico de crédito / outros créditos existentes (não neste banco) \n",
    "\n",
    "#### Considerações Finais:\n",
    "\n",
    "* Clientes maus apresentam em média 954 euros a mais de créditos;\n",
    "* Créditos com perfis bons são mais tendenciosos a não ter uma conta corrente, enquanto com Créditos maus possuem 80% de ser menor ou igual 0 e menor 200 DM\n",
    "* Créditos com perfis maus tendem em média ter 5 meses a mais de uso de créditos\n",
    "* A diferença entre idades dos perfis é de 3 anos sendo que perfis maus são mais novos com média 33 anos.\n",
    "* Perfis bons tendem a ter mais contas criticas ou creditos em outros bancos."
   ]
  },
  {
   "cell_type": "code",
   "execution_count": 48,
   "metadata": {},
   "outputs": [
    {
     "data": {
      "text/html": [
       "<div>\n",
       "<style scoped>\n",
       "    .dataframe tbody tr th:only-of-type {\n",
       "        vertical-align: middle;\n",
       "    }\n",
       "\n",
       "    .dataframe tbody tr th {\n",
       "        vertical-align: top;\n",
       "    }\n",
       "\n",
       "    .dataframe thead th {\n",
       "        text-align: right;\n",
       "    }\n",
       "</style>\n",
       "<table border=\"1\" class=\"dataframe\">\n",
       "  <thead>\n",
       "    <tr style=\"text-align: right;\">\n",
       "      <th></th>\n",
       "      <th>importance</th>\n",
       "    </tr>\n",
       "  </thead>\n",
       "  <tbody>\n",
       "    <tr>\n",
       "      <th>credit_amount</th>\n",
       "      <td>0.114682</td>\n",
       "    </tr>\n",
       "    <tr>\n",
       "      <th>status_of_existing_checking_account_ordinal_label</th>\n",
       "      <td>0.106280</td>\n",
       "    </tr>\n",
       "    <tr>\n",
       "      <th>duration_in_month</th>\n",
       "      <td>0.092434</td>\n",
       "    </tr>\n",
       "    <tr>\n",
       "      <th>age</th>\n",
       "      <td>0.083679</td>\n",
       "    </tr>\n",
       "    <tr>\n",
       "      <th>credit_history_critical account / other credits existing (not at this bank)</th>\n",
       "      <td>0.058719</td>\n",
       "    </tr>\n",
       "  </tbody>\n",
       "</table>\n",
       "</div>"
      ],
      "text/plain": [
       "                                                    importance\n",
       "credit_amount                                         0.114682\n",
       "status_of_existing_checking_account_ordinal_label     0.106280\n",
       "duration_in_month                                     0.092434\n",
       "age                                                   0.083679\n",
       "credit_history_critical account / other credits...    0.058719"
      ]
     },
     "execution_count": 48,
     "metadata": {},
     "output_type": "execute_result"
    }
   ],
   "source": [
    "feature_importances = pd.DataFrame(rc.feature_importances_,index = X_train.columns,columns=['importance']).sort_values('importance',ascending=False)\n",
    "feature_importances.head()"
   ]
  }
 ],
 "metadata": {
  "kernelspec": {
   "display_name": "Python 3",
   "language": "python",
   "name": "python3"
  },
  "language_info": {
   "codemirror_mode": {
    "name": "ipython",
    "version": 3
   },
   "file_extension": ".py",
   "mimetype": "text/x-python",
   "name": "python",
   "nbconvert_exporter": "python",
   "pygments_lexer": "ipython3",
   "version": "3.6.5"
  }
 },
 "nbformat": 4,
 "nbformat_minor": 2
}
